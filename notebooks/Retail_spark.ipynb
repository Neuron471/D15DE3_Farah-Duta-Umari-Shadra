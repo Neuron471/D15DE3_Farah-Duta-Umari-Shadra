{
  "cells": [
    {
      "cell_type": "code",
      "execution_count": 2,
      "metadata": {
        "id": "Nox5VnnJEAt9"
      },
      "outputs": [],
      "source": [
        "import pyspark\n",
        "from pandas import DataFrame, Series\n",
        "from pyspark.sql.types import *\n",
        "import pyspark.sql.functions as F\n",
        "from pyspark.sql.functions import col\n",
        "\n",
        "sparkcontext = pyspark.SparkContext.getOrCreate(\n",
        "    conf=(pyspark.SparkConf().setAppName(\"Dibimbing\"))\n",
        ")\n",
        "sparkcontext.setLogLevel(\"WARN\")\n",
        "\n",
        "spark = pyspark.sql.SparkSession(sparkcontext.getOrCreate())"
      ]
    },
    {
      "cell_type": "code",
      "execution_count": 3,
      "metadata": {
        "colab": {
          "base_uri": "https://localhost:8080/"
        },
        "id": "TJp9WoACKfbd",
        "outputId": "1649a7fb-72cb-4c50-8dbb-6940036cbd88"
      },
      "outputs": [
        {
          "name": "stdout",
          "output_type": "stream",
          "text": [
            "+---------+---------+--------------------+--------+--------------+---------+----------+--------------+\n",
            "|InvoiceNo|StockCode|         Description|Quantity|   InvoiceDate|UnitPrice|CustomerID|       Country|\n",
            "+---------+---------+--------------------+--------+--------------+---------+----------+--------------+\n",
            "|   536365|   85123A|WHITE HANGING HEA...|       6|12/1/2010 8:26|     2.55|     17850|United Kingdom|\n",
            "|   536365|    71053| WHITE METAL LANTERN|       6|12/1/2010 8:26|     3.39|     17850|United Kingdom|\n",
            "|   536365|   84406B|CREAM CUPID HEART...|       8|12/1/2010 8:26|     2.75|     17850|United Kingdom|\n",
            "|   536365|   84029G|KNITTED UNION FLA...|       6|12/1/2010 8:26|     3.39|     17850|United Kingdom|\n",
            "|   536365|   84029E|RED WOOLLY HOTTIE...|       6|12/1/2010 8:26|     3.39|     17850|United Kingdom|\n",
            "|   536365|    22752|SET 7 BABUSHKA NE...|       2|12/1/2010 8:26|     7.65|     17850|United Kingdom|\n",
            "|   536365|    21730|GLASS STAR FROSTE...|       6|12/1/2010 8:26|     4.25|     17850|United Kingdom|\n",
            "|   536366|    22633|HAND WARMER UNION...|       6|12/1/2010 8:28|     1.85|     17850|United Kingdom|\n",
            "|   536366|    22632|HAND WARMER RED P...|       6|12/1/2010 8:28|     1.85|     17850|United Kingdom|\n",
            "|   536367|    84879|ASSORTED COLOUR B...|      32|12/1/2010 8:34|     1.69|     13047|United Kingdom|\n",
            "|   536367|    22745|POPPY'S PLAYHOUSE...|       6|12/1/2010 8:34|      2.1|     13047|United Kingdom|\n",
            "|   536367|    22748|POPPY'S PLAYHOUSE...|       6|12/1/2010 8:34|      2.1|     13047|United Kingdom|\n",
            "|   536367|    22749|FELTCRAFT PRINCES...|       8|12/1/2010 8:34|     3.75|     13047|United Kingdom|\n",
            "|   536367|    22310|IVORY KNITTED MUG...|       6|12/1/2010 8:34|     1.65|     13047|United Kingdom|\n",
            "|   536367|    84969|BOX OF 6 ASSORTED...|       6|12/1/2010 8:34|     4.25|     13047|United Kingdom|\n",
            "|   536367|    22623|BOX OF VINTAGE JI...|       3|12/1/2010 8:34|     4.95|     13047|United Kingdom|\n",
            "|   536367|    22622|BOX OF VINTAGE AL...|       2|12/1/2010 8:34|     9.95|     13047|United Kingdom|\n",
            "|   536367|    21754|HOME BUILDING BLO...|       3|12/1/2010 8:34|     5.95|     13047|United Kingdom|\n",
            "|   536367|    21755|LOVE BUILDING BLO...|       3|12/1/2010 8:34|     5.95|     13047|United Kingdom|\n",
            "|   536367|    21777|RECIPE BOX WITH M...|       4|12/1/2010 8:34|     7.95|     13047|United Kingdom|\n",
            "+---------+---------+--------------------+--------+--------------+---------+----------+--------------+\n",
            "only showing top 20 rows\n",
            "\n",
            "root\n",
            " |-- InvoiceNo: string (nullable = true)\n",
            " |-- StockCode: string (nullable = true)\n",
            " |-- Description: string (nullable = true)\n",
            " |-- Quantity: string (nullable = true)\n",
            " |-- InvoiceDate: string (nullable = true)\n",
            " |-- UnitPrice: string (nullable = true)\n",
            " |-- CustomerID: string (nullable = true)\n",
            " |-- Country: string (nullable = true)\n",
            "\n"
          ]
        }
      ],
      "source": [
        "retail_data = spark.read.csv('data/online-retail-dataset.csv', header=True)\n",
        "retail_data.show()\n",
        "retail_data.printSchema()"
      ]
    },
    {
      "cell_type": "code",
      "execution_count": 4,
      "metadata": {
        "colab": {
          "base_uri": "https://localhost:8080/"
        },
        "id": "UU5t3MqUNkGj",
        "outputId": "2440cbc6-a46f-498c-c26f-0b4e7fbd98ba"
      },
      "outputs": [
        {
          "name": "stdout",
          "output_type": "stream",
          "text": [
            "root\n",
            " |-- InvoiceNo: integer (nullable = true)\n",
            " |-- StockCode: string (nullable = true)\n",
            " |-- Description: string (nullable = true)\n",
            " |-- Quantity: integer (nullable = true)\n",
            " |-- InvoiceDate: timestamp (nullable = true)\n",
            " |-- UnitPrice: decimal(10,2) (nullable = true)\n",
            " |-- CustomerID: integer (nullable = true)\n",
            " |-- Country: string (nullable = true)\n",
            "\n",
            "+---------+---------+--------------------+--------+-------------------+---------+----------+--------------+\n",
            "|InvoiceNo|StockCode|         Description|Quantity|        InvoiceDate|UnitPrice|CustomerID|       Country|\n",
            "+---------+---------+--------------------+--------+-------------------+---------+----------+--------------+\n",
            "|   536365|   85123A|WHITE HANGING HEA...|       6|2010-01-12 08:26:00|     2.55|     17850|United Kingdom|\n",
            "|   536365|    71053| WHITE METAL LANTERN|       6|2010-01-12 08:26:00|     3.39|     17850|United Kingdom|\n",
            "|   536365|   84406B|CREAM CUPID HEART...|       8|2010-01-12 08:26:00|     2.75|     17850|United Kingdom|\n",
            "|   536365|   84029G|KNITTED UNION FLA...|       6|2010-01-12 08:26:00|     3.39|     17850|United Kingdom|\n",
            "|   536365|   84029E|RED WOOLLY HOTTIE...|       6|2010-01-12 08:26:00|     3.39|     17850|United Kingdom|\n",
            "|   536365|    22752|SET 7 BABUSHKA NE...|       2|2010-01-12 08:26:00|     7.65|     17850|United Kingdom|\n",
            "|   536365|    21730|GLASS STAR FROSTE...|       6|2010-01-12 08:26:00|     4.25|     17850|United Kingdom|\n",
            "|   536366|    22633|HAND WARMER UNION...|       6|2010-01-12 08:28:00|     1.85|     17850|United Kingdom|\n",
            "|   536366|    22632|HAND WARMER RED P...|       6|2010-01-12 08:28:00|     1.85|     17850|United Kingdom|\n",
            "|   536367|    84879|ASSORTED COLOUR B...|      32|2010-01-12 08:34:00|     1.69|     13047|United Kingdom|\n",
            "|   536367|    22745|POPPY'S PLAYHOUSE...|       6|2010-01-12 08:34:00|     2.10|     13047|United Kingdom|\n",
            "|   536367|    22748|POPPY'S PLAYHOUSE...|       6|2010-01-12 08:34:00|     2.10|     13047|United Kingdom|\n",
            "|   536367|    22749|FELTCRAFT PRINCES...|       8|2010-01-12 08:34:00|     3.75|     13047|United Kingdom|\n",
            "|   536367|    22310|IVORY KNITTED MUG...|       6|2010-01-12 08:34:00|     1.65|     13047|United Kingdom|\n",
            "|   536367|    84969|BOX OF 6 ASSORTED...|       6|2010-01-12 08:34:00|     4.25|     13047|United Kingdom|\n",
            "|   536367|    22623|BOX OF VINTAGE JI...|       3|2010-01-12 08:34:00|     4.95|     13047|United Kingdom|\n",
            "|   536367|    22622|BOX OF VINTAGE AL...|       2|2010-01-12 08:34:00|     9.95|     13047|United Kingdom|\n",
            "|   536367|    21754|HOME BUILDING BLO...|       3|2010-01-12 08:34:00|     5.95|     13047|United Kingdom|\n",
            "|   536367|    21755|LOVE BUILDING BLO...|       3|2010-01-12 08:34:00|     5.95|     13047|United Kingdom|\n",
            "|   536367|    21777|RECIPE BOX WITH M...|       4|2010-01-12 08:34:00|     7.95|     13047|United Kingdom|\n",
            "+---------+---------+--------------------+--------+-------------------+---------+----------+--------------+\n",
            "only showing top 20 rows\n",
            "\n"
          ]
        }
      ],
      "source": [
        "retail_data = retail_data.withColumn(\"InvoiceNo\", col(\"InvoiceNo\").cast(\"int\"))\n",
        "retail_data = retail_data.withColumn('InvoiceDate', F.to_timestamp('InvoiceDate', format='d/M/yyyy H:mm'))\n",
        "retail_data = retail_data.withColumn(\"Quantity\", col(\"Quantity\").cast(\"int\"))\n",
        "retail_data = retail_data.withColumn(\"UnitPrice\", col(\"UnitPrice\").cast(\"decimal(10,2)\"))\n",
        "retail_data = retail_data.withColumn(\"CustomerID\", col(\"CustomerID\").cast(\"int\"))\n",
        "\n",
        "retail_data.printSchema()\n",
        "retail_data.show()"
      ]
    },
    {
      "cell_type": "markdown",
      "metadata": {
        "id": "IWkrhwRsXL-z"
      },
      "source": [
        "Penjualan Terbanyak"
      ]
    },
    {
      "cell_type": "code",
      "execution_count": 5,
      "metadata": {
        "colab": {
          "base_uri": "https://localhost:8080/"
        },
        "id": "U-_wieWSXK-f",
        "outputId": "344df645-0c60-499b-effe-0296748b12c1"
      },
      "outputs": [
        {
          "name": "stdout",
          "output_type": "stream",
          "text": [
            "+-------+-------------+\n",
            "|  Month|total_revenue|\n",
            "+-------+-------------+\n",
            "|2010-01|     58635.56|\n",
            "|2010-02|     46207.28|\n",
            "|2010-03|     45620.46|\n",
            "|2010-05|     31383.95|\n",
            "|2010-06|     53860.18|\n",
            "|2010-07|     45059.05|\n",
            "|2010-08|     44189.84|\n",
            "|2010-09|     52532.13|\n",
            "|2010-10|     57404.91|\n",
            "|2010-12|     17240.92|\n",
            "|2011-01|    105452.57|\n",
            "|2011-02|     71846.91|\n",
            "|2011-03|    102434.16|\n",
            "|2011-04|    111954.84|\n",
            "|2011-05|     81058.60|\n",
            "|2011-06|    120231.40|\n",
            "|2011-07|    103612.42|\n",
            "|2011-08|     87853.67|\n",
            "|2011-09|     80370.93|\n",
            "|2011-10|    118145.07|\n",
            "+-------+-------------+\n",
            "only showing top 20 rows\n",
            "\n"
          ]
        }
      ],
      "source": [
        "retail_data.createOrReplaceTempView(\"revenue_data\")\n",
        "# Menghitung revenue per bulan dengan SQL\n",
        "revenue_per_month = spark.sql(\"\"\"\n",
        "    SELECT\n",
        "        DATE_FORMAT(InvoiceDate, 'yyyy-MM') AS Month,\n",
        "        SUM(Quantity * UnitPrice) AS total_revenue\n",
        "    FROM\n",
        "        revenue_data\n",
        "    WHERE\n",
        "        InvoiceDate IS NOT NULL\n",
        "    GROUP BY\n",
        "        DATE_FORMAT(InvoiceDate, 'yyyy-MM')\n",
        "    ORDER BY\n",
        "        Month\n",
        "\"\"\")\n",
        "\n",
        "# Menampilkan hasil perhitungan\n",
        "revenue_per_month.show()"
      ]
    },
    {
      "cell_type": "markdown",
      "metadata": {
        "id": "vOvguIoad2Ja"
      },
      "source": [
        "Ranking produk yang terjual"
      ]
    },
    {
      "cell_type": "code",
      "execution_count": 11,
      "metadata": {
        "colab": {
          "base_uri": "https://localhost:8080/"
        },
        "id": "eyX3C9e9d1VP",
        "outputId": "94026bdb-8923-419b-8455-e780404aed73"
      },
      "outputs": [
        {
          "name": "stdout",
          "output_type": "stream",
          "text": [
            "+----+-----+--------------------+-------------+-------+\n",
            "|year|month|         Description|total_revenue|ranking|\n",
            "+----+-----+--------------------+-------------+-------+\n",
            "|2010|    1|BLACK RECORD COVE...|      1830.60|      1|\n",
            "|2010|    1|RED WOOLLY HOTTIE...|      1670.55|      2|\n",
            "|2010|    1|REGENCY CAKESTAND...|      1434.84|      3|\n",
            "|2010|    1|WHITE HANGING HEA...|      1224.18|      4|\n",
            "|2010|    1|      DOTCOM POSTAGE|      1177.26|      5|\n",
            "|2010|    1|       CHILLI LIGHTS|      1109.55|      6|\n",
            "|2010|    1|JUMBO BAG RED RET...|       938.72|      7|\n",
            "|2010|    1|PAPER CHAIN KIT 5...|       891.10|      8|\n",
            "|2010|    1|SET OF 3 COLOURED...|       809.25|      9|\n",
            "|2010|    1|FAIRY TALE COTTAG...|       684.90|     10|\n",
            "|2010|    1|WOODEN OWLS LIGHT...|       681.04|     11|\n",
            "|2010|    1|LIGHT GARLAND BUT...|       681.04|     11|\n",
            "|2010|    1|STRAWBERRY CERAMI...|       656.55|     13|\n",
            "|2010|    1|RED TOADSTOOL LED...|       634.41|     14|\n",
            "|2010|    1|HAND WARMER SCOTT...|       614.48|     15|\n",
            "|2010|    1|HAND WARMER OWL D...|       507.38|     16|\n",
            "|2010|    1|VICTORIAN SEWING ...|       477.86|     17|\n",
            "|2010|    1|\"RECORD FRAME 7\"\"...|       474.60|     18|\n",
            "|2010|    1|HAND WARMER BIRD ...|       469.56|     19|\n",
            "|2010|    1|PAPER CHAIN KIT V...|       435.94|     20|\n",
            "+----+-----+--------------------+-------------+-------+\n",
            "only showing top 20 rows\n",
            "\n"
          ]
        }
      ],
      "source": [
        "rank_product = spark.sql(\"\"\"\n",
        "    SELECT\n",
        "        YEAR(InvoiceDate) AS year,\n",
        "        MONTH(InvoiceDate) AS month,\n",
        "        Description,\n",
        "        SUM(Quantity * UnitPrice) AS total_revenue,\n",
        "        RANK() OVER (PARTITION BY YEAR(InvoiceDate), MONTH(InvoiceDate) ORDER BY SUM(Quantity * UnitPrice) DESC) AS ranking\n",
        "    FROM\n",
        "        revenue_data\n",
        "    WHERE\n",
        "        InvoiceDate IS NOT NULL\n",
        "    GROUP BY\n",
        "        YEAR(InvoiceDate),\n",
        "        MONTH(InvoiceDate),\n",
        "        Description\n",
        "\"\"\")\n",
        "# Menampilkan hasil perhitungan\n",
        "rank_product.show()"
      ]
    }
  ],
  "metadata": {
    "colab": {
      "provenance": []
    },
    "kernelspec": {
      "display_name": "Python 3",
      "name": "python3"
    },
    "language_info": {
      "name": "python"
    }
  },
  "nbformat": 4,
  "nbformat_minor": 0
}
